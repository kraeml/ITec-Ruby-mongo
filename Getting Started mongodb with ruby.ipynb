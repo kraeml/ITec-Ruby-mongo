{
 "cells": [
  {
   "cell_type": "code",
   "execution_count": 1,
   "metadata": {
    "collapsed": false
   },
   "outputs": [
    {
     "data": {
      "text/plain": [
       "true"
      ]
     },
     "execution_count": 1,
     "metadata": {},
     "output_type": "execute_result"
    }
   ],
   "source": [
    "require 'mongo'"
   ]
  },
  {
   "cell_type": "code",
   "execution_count": 2,
   "metadata": {
    "collapsed": false
   },
   "outputs": [
    {
     "name": "stdout",
     "output_type": "stream",
     "text": [
      "D, [2016-10-04T20:57:09.808474 #3017] DEBUG -- : MONGODB | Adding 127.0.0.1:27017 to the cluster.\n"
     ]
    },
    {
     "data": {
      "text/plain": [
       "#<Mongo::Client:0x27430580 cluster=127.0.0.1:27017>"
      ]
     },
     "execution_count": 2,
     "metadata": {},
     "output_type": "execute_result"
    }
   ],
   "source": [
    "client = Mongo::Client.new([ '127.0.0.1:27017' ], :database => 'test')"
   ]
  },
  {
   "cell_type": "code",
   "execution_count": 3,
   "metadata": {
    "collapsed": false
   },
   "outputs": [
    {
     "data": {
      "text/plain": [
       "#<Mongo::Database:0x26184520 name=test>"
      ]
     },
     "execution_count": 3,
     "metadata": {},
     "output_type": "execute_result"
    }
   ],
   "source": [
    "db = client.database"
   ]
  },
  {
   "cell_type": "code",
   "execution_count": 4,
   "metadata": {
    "collapsed": false
   },
   "outputs": [
    {
     "name": "stdout",
     "output_type": "stream",
     "text": [
      "D, [2016-10-04T20:58:04.524283 #3017] DEBUG -- : MONGODB | 127.0.0.1:27017 | test.listCollections | STARTED | {\"listCollections\"=>1, \"cursor\"=>{}, \"filter\"=>{:name=>{\"$not\"=>/system\\.|\\$/}}}\n",
      "D, [2016-10-04T20:58:04.538795 #3017] DEBUG -- : MONGODB | 127.0.0.1:27017 | test.listCollections | SUCCEEDED | 0.013858188s\n"
     ]
    },
    {
     "data": {
      "text/plain": [
       "[#<Mongo::Collection:0x25665660 namespace=test.restaurants>]"
      ]
     },
     "execution_count": 4,
     "metadata": {},
     "output_type": "execute_result"
    }
   ],
   "source": [
    "db.collections # returns a list of collection objects"
   ]
  },
  {
   "cell_type": "code",
   "execution_count": 5,
   "metadata": {
    "collapsed": false
   },
   "outputs": [
    {
     "name": "stdout",
     "output_type": "stream",
     "text": [
      "D, [2016-10-04T20:58:36.045970 #3017] DEBUG -- : MONGODB | 127.0.0.1:27017 | test.listCollections | STARTED | {\"listCollections\"=>1, \"cursor\"=>{}, \"filter\"=>{:name=>{\"$not\"=>/system\\.|\\$/}}}\n",
      "D, [2016-10-04T20:58:36.078789 #3017] DEBUG -- : MONGODB | 127.0.0.1:27017 | test.listCollections | SUCCEEDED | 0.032263381s\n"
     ]
    },
    {
     "data": {
      "text/plain": [
       "[\"restaurants\"]"
      ]
     },
     "execution_count": 5,
     "metadata": {},
     "output_type": "execute_result"
    }
   ],
   "source": [
    "db.collection_names # returns a list of collection names"
   ]
  },
  {
   "cell_type": "code",
   "execution_count": 12,
   "metadata": {
    "collapsed": false
   },
   "outputs": [
    {
     "data": {
      "text/plain": [
       "#<Mongo::Collection:0x27065240 namespace=test.people>"
      ]
     },
     "execution_count": 12,
     "metadata": {},
     "output_type": "execute_result"
    }
   ],
   "source": [
    "collection = client[:people]"
   ]
  },
  {
   "cell_type": "code",
   "execution_count": 13,
   "metadata": {
    "collapsed": false
   },
   "outputs": [
    {
     "data": {
      "text/plain": [
       "{:name=>\"Steve\", :hobbies=>[\"hiking\", \"tennis\", \"fly fishing\"]}"
      ]
     },
     "execution_count": 13,
     "metadata": {},
     "output_type": "execute_result"
    }
   ],
   "source": [
    "doc = { name: 'Steve', hobbies: [ 'hiking', 'tennis', 'fly fishing' ] }"
   ]
  },
  {
   "cell_type": "code",
   "execution_count": 14,
   "metadata": {
    "collapsed": false
   },
   "outputs": [
    {
     "name": "stdout",
     "output_type": "stream",
     "text": [
      "D, [2016-10-04T21:02:53.118096 #3017] DEBUG -- : MONGODB | 127.0.0.1:27017 | test.insert | STARTED | {\"insert\"=>\"people\", \"documents\"=>[{:name=>\"Steve\", :hobbies=>[\"hiking\", \"tennis\", \"fly fishing\"], :_id=>BSON::ObjectId('57f3fcddc9fee30bc9d5e8e4')}], \"ordered\"=>true}\n",
      "D, [2016-10-04T21:02:53.187977 #3017] DEBUG -- : MONGODB | 127.0.0.1:27017 | test.insert | SUCCEEDED | 0.068092763s\n"
     ]
    },
    {
     "data": {
      "text/plain": [
       "#<Mongo::Operation::Result:26784160 documents=[{\"ok\"=>1, \"n\"=>1}]>"
      ]
     },
     "execution_count": 14,
     "metadata": {},
     "output_type": "execute_result"
    }
   ],
   "source": [
    "result = collection.insert_one(doc)"
   ]
  },
  {
   "cell_type": "code",
   "execution_count": 15,
   "metadata": {
    "collapsed": false
   },
   "outputs": [
    {
     "data": {
      "text/plain": [
       "1"
      ]
     },
     "execution_count": 15,
     "metadata": {},
     "output_type": "execute_result"
    }
   ],
   "source": [
    "result.n # returns 1, because one document was inserted"
   ]
  },
  {
   "cell_type": "code",
   "execution_count": 16,
   "metadata": {
    "collapsed": false
   },
   "outputs": [
    {
     "data": {
      "text/plain": [
       "[{:_id=>1, :name=>\"Steve\", :hobbies=>[\"hiking\", \"tennis\", \"fly fishing\"]}, {:_id=>2, :name=>\"Sally\", :hobbies=>[\"skiing\", \"stamp collecting\"]}]"
      ]
     },
     "execution_count": 16,
     "metadata": {},
     "output_type": "execute_result"
    }
   ],
   "source": [
    "docs = [ { _id: 1, name: 'Steve', hobbies: [ 'hiking', 'tennis', 'fly fishing' ] },\n",
    "         { _id: 2, name: 'Sally', hobbies: ['skiing', 'stamp collecting' ] } ]"
   ]
  },
  {
   "cell_type": "code",
   "execution_count": 17,
   "metadata": {
    "collapsed": false
   },
   "outputs": [
    {
     "name": "stdout",
     "output_type": "stream",
     "text": [
      "D, [2016-10-04T21:03:00.750052 #3017] DEBUG -- : MONGODB | 127.0.0.1:27017 | test.insert | STARTED | {\"insert\"=>\"people\", \"documents\"=>[{:_id=>1, :name=>\"Steve\", :hobbies=>[\"hiking\", \"tennis\", \"fly fishing\"]}, {:_id=>2, :name=>\"Sally\", :hobbies=>[\"skiing\", \"stamp collecting\"]}], \"ordered\"=>true}\n",
      "D, [2016-10-04T21:03:00.751702 #3017] DEBUG -- : MONGODB | 127.0.0.1:27017 | test.insert | SUCCEEDED | 0.0007461449999999999s\n"
     ]
    },
    {
     "data": {
      "text/plain": [
       "2"
      ]
     },
     "execution_count": 17,
     "metadata": {},
     "output_type": "execute_result"
    }
   ],
   "source": [
    "result = collection.insert_many(docs)\n",
    "result.inserted_count # returns 2 because two documents were inserted"
   ]
  },
  {
   "cell_type": "code",
   "execution_count": 18,
   "metadata": {
    "collapsed": false
   },
   "outputs": [
    {
     "name": "stdout",
     "output_type": "stream",
     "text": [
      "D, [2016-10-04T21:04:04.176557 #3017] DEBUG -- : MONGODB | 127.0.0.1:27017 | test.find | STARTED | {\"find\"=>\"people\", \"filter\"=>{}}\n",
      "D, [2016-10-04T21:04:04.178796 #3017] DEBUG -- : MONGODB | 127.0.0.1:27017 | test.find | SUCCEEDED | 0.001564502s\n",
      "{\"_id\"=>BSON::ObjectId('57f3fcddc9fee30bc9d5e8e4'), \"name\"=>\"Steve\", \"hobbies\"=>[\"hiking\", \"tennis\", \"fly fishing\"]}\n",
      "{\"_id\"=>1, \"name\"=>\"Steve\", \"hobbies\"=>[\"hiking\", \"tennis\", \"fly fishing\"]}\n",
      "{\"_id\"=>2, \"name\"=>\"Sally\", \"hobbies\"=>[\"skiing\", \"stamp collecting\"]}\n"
     ]
    },
    {
     "data": {
      "text/plain": [
       "#<Enumerator: #<Mongo::Cursor:0x25835360 @view=#<Mongo::Collection::View:0x26862300 namespace='test.people' @filter={} @options={}>>:each>"
      ]
     },
     "execution_count": 18,
     "metadata": {},
     "output_type": "execute_result"
    }
   ],
   "source": [
    "collection.find.each do |document|\n",
    "  puts document\n",
    "end"
   ]
  },
  {
   "cell_type": "code",
   "execution_count": 19,
   "metadata": {
    "collapsed": false
   },
   "outputs": [
    {
     "name": "stdout",
     "output_type": "stream",
     "text": [
      "D, [2016-10-04T21:04:54.533682 #3017] DEBUG -- : MONGODB | 127.0.0.1:27017 | test.find | STARTED | {\"find\"=>\"people\", \"filter\"=>{\"name\"=>\"Sally\"}}\n",
      "D, [2016-10-04T21:04:54.539517 #3017] DEBUG -- : MONGODB | 127.0.0.1:27017 | test.find | SUCCEEDED | 0.005088678s\n",
      "{\"_id\"=>2, \"name\"=>\"Sally\", \"hobbies\"=>[\"skiing\", \"stamp collecting\"]}\n"
     ]
    }
   ],
   "source": [
    "puts collection.find( { name: 'Sally' } ).first"
   ]
  },
  {
   "cell_type": "code",
   "execution_count": 20,
   "metadata": {
    "collapsed": false
   },
   "outputs": [
    {
     "name": "stdout",
     "output_type": "stream",
     "text": [
      "D, [2016-10-04T21:05:29.135910 #3017] DEBUG -- : MONGODB | 127.0.0.1:27017 | test.update | STARTED | {\"update\"=>\"people\", \"updates\"=>[{\"q\"=>{\"name\"=>\"Sally\"}, \"u\"=>{\"$set\"=>{\"phone_number\"=>\"555-555-5555\"}}, \"multi\"=>false, \"upsert\"=>false}], \"ordered\"=>true}\n",
      "D, [2016-10-04T21:05:29.142133 #3017] DEBUG -- : MONGODB | 127.0.0.1:27017 | test.update | SUCCEEDED | 0.005678776s\n"
     ]
    },
    {
     "data": {
      "text/plain": [
       "#<Mongo::Operation::Result:17507020 documents=[{\"ok\"=>1, \"nModified\"=>1, \"n\"=>1}]>"
      ]
     },
     "execution_count": 20,
     "metadata": {},
     "output_type": "execute_result"
    }
   ],
   "source": [
    "result = collection.update_one( { 'name' => 'Sally' }, { '$set' => { 'phone_number' => \"555-555-5555\" } } )"
   ]
  },
  {
   "cell_type": "code",
   "execution_count": 21,
   "metadata": {
    "collapsed": false
   },
   "outputs": [
    {
     "name": "stdout",
     "output_type": "stream",
     "text": [
      "D, [2016-10-04T21:05:49.388213 #3017] DEBUG -- : MONGODB | 127.0.0.1:27017 | test.find | STARTED | {\"find\"=>\"people\", \"filter\"=>{\"name\"=>\"Sally\"}}\n",
      "D, [2016-10-04T21:05:49.389633 #3017] DEBUG -- : MONGODB | 127.0.0.1:27017 | test.find | SUCCEEDED | 0.000682091s\n",
      "{\"_id\"=>2, \"name\"=>\"Sally\", \"hobbies\"=>[\"skiing\", \"stamp collecting\"], \"phone_number\"=>\"555-555-5555\"}\n"
     ]
    }
   ],
   "source": [
    "puts collection.find( { name: 'Sally' } ).first"
   ]
  },
  {
   "cell_type": "code",
   "execution_count": 22,
   "metadata": {
    "collapsed": false
   },
   "outputs": [
    {
     "name": "stdout",
     "output_type": "stream",
     "text": [
      "D, [2016-10-04T21:06:16.362076 #3017] DEBUG -- : MONGODB | 127.0.0.1:27017 | test.update | STARTED | {\"update\"=>\"people\", \"updates\"=>[{\"q\"=>{}, \"u\"=>{\"$set\"=>{\"age\"=>36}}, \"multi\"=>true, \"upsert\"=>false}], \"ordered\"=>true}\n",
      "D, [2016-10-04T21:06:16.364043 #3017] DEBUG -- : MONGODB | 127.0.0.1:27017 | test.update | SUCCEEDED | 0.000913725s\n"
     ]
    },
    {
     "data": {
      "text/plain": [
       "#<Mongo::Operation::Result:16539780 documents=[{\"ok\"=>1, \"nModified\"=>3, \"n\"=>3}]>"
      ]
     },
     "execution_count": 22,
     "metadata": {},
     "output_type": "execute_result"
    }
   ],
   "source": [
    "result = collection.update_many( {}, { '$set' => { 'age' => 36 } } )"
   ]
  },
  {
   "cell_type": "code",
   "execution_count": 24,
   "metadata": {
    "collapsed": false
   },
   "outputs": [
    {
     "name": "stdout",
     "output_type": "stream",
     "text": [
      "3\n"
     ]
    }
   ],
   "source": [
    "puts result.modified_count # returns 3 because 3 documents were updated"
   ]
  },
  {
   "cell_type": "code",
   "execution_count": 25,
   "metadata": {
    "collapsed": false
   },
   "outputs": [
    {
     "name": "stdout",
     "output_type": "stream",
     "text": [
      "D, [2016-10-04T21:07:04.022838 #3017] DEBUG -- : MONGODB | 127.0.0.1:27017 | test.delete | STARTED | {\"delete\"=>\"people\", \"deletes\"=>[{\"q\"=>{\"name\"=>\"Steve\"}, \"limit\"=>1}], \"ordered\"=>true}\n",
      "D, [2016-10-04T21:07:04.024022 #3017] DEBUG -- : MONGODB | 127.0.0.1:27017 | test.delete | SUCCEEDED | 0.000717406s\n"
     ]
    },
    {
     "data": {
      "text/plain": [
       "#<Mongo::Operation::Result:21914720 documents=[{\"ok\"=>1, \"n\"=>1}]>"
      ]
     },
     "execution_count": 25,
     "metadata": {},
     "output_type": "execute_result"
    }
   ],
   "source": [
    "result = collection.delete_one( { name: 'Steve' } )"
   ]
  },
  {
   "cell_type": "code",
   "execution_count": 26,
   "metadata": {
    "collapsed": false
   },
   "outputs": [
    {
     "name": "stdout",
     "output_type": "stream",
     "text": [
      "1\n"
     ]
    }
   ],
   "source": [
    "puts result.deleted_count # returns 1 because one document was deleted"
   ]
  },
  {
   "cell_type": "code",
   "execution_count": 27,
   "metadata": {
    "collapsed": false
   },
   "outputs": [
    {
     "name": "stdout",
     "output_type": "stream",
     "text": [
      "D, [2016-10-04T21:07:42.652127 #3017] DEBUG -- : MONGODB | 127.0.0.1:27017 | test.insert | STARTED | {\"insert\"=>\"people\", \"documents\"=>[{:_id=>3, :name=>\"Arnold\"}, {:_id=>4, :name=>\"Susan\"}], \"ordered\"=>true}\n",
      "D, [2016-10-04T21:07:42.653244 #3017] DEBUG -- : MONGODB | 127.0.0.1:27017 | test.insert | SUCCEEDED | 0.00057961s\n"
     ]
    },
    {
     "data": {
      "text/plain": [
       "#<Mongo::BulkWrite::Result:0x00000002a58758 @results={\"n_inserted\"=>2, \"n\"=>2, \"inserted_ids\"=>[3, 4]}>"
      ]
     },
     "execution_count": 27,
     "metadata": {},
     "output_type": "execute_result"
    }
   ],
   "source": [
    "collection.insert_many([ { _id: 3, name: \"Arnold\" }, { _id: 4, name: \"Susan\" } ])"
   ]
  },
  {
   "cell_type": "code",
   "execution_count": 28,
   "metadata": {
    "collapsed": false
   },
   "outputs": [
    {
     "name": "stdout",
     "output_type": "stream",
     "text": [
      "D, [2016-10-04T21:07:56.042452 #3017] DEBUG -- : MONGODB | 127.0.0.1:27017 | test.count | STARTED | {\"count\"=>\"people\", \"query\"=>{}}\n",
      "D, [2016-10-04T21:07:56.049596 #3017] DEBUG -- : MONGODB | 127.0.0.1:27017 | test.count | SUCCEEDED | 0.0052422020000000005s\n",
      "4\n"
     ]
    }
   ],
   "source": [
    "puts collection.count # counts all documents in collection"
   ]
  },
  {
   "cell_type": "code",
   "execution_count": 29,
   "metadata": {
    "collapsed": false
   },
   "outputs": [
    {
     "name": "stdout",
     "output_type": "stream",
     "text": [
      "D, [2016-10-04T21:08:19.272246 #3017] DEBUG -- : MONGODB | 127.0.0.1:27017 | test.delete | STARTED | {\"delete\"=>\"people\", \"deletes\"=>[{\"q\"=>{\"name\"=>/$S*/}, \"limit\"=>0}], \"ordered\"=>true}\n",
      "D, [2016-10-04T21:08:19.274947 #3017] DEBUG -- : MONGODB | 127.0.0.1:27017 | test.delete | SUCCEEDED | 0.00215094s\n"
     ]
    },
    {
     "data": {
      "text/plain": [
       "#<Mongo::Operation::Result:26830700 documents=[{\"ok\"=>1, \"n\"=>4}]>"
      ]
     },
     "execution_count": 29,
     "metadata": {},
     "output_type": "execute_result"
    }
   ],
   "source": [
    "result = collection.delete_many({ name: /$S*/ })"
   ]
  },
  {
   "cell_type": "code",
   "execution_count": 30,
   "metadata": {
    "collapsed": false
   },
   "outputs": [
    {
     "name": "stdout",
     "output_type": "stream",
     "text": [
      "4\n"
     ]
    }
   ],
   "source": [
    "puts result.deleted_count # returns the number of documents deleted"
   ]
  },
  {
   "cell_type": "code",
   "execution_count": 31,
   "metadata": {
    "collapsed": false
   },
   "outputs": [
    {
     "name": "stdout",
     "output_type": "stream",
     "text": [
      "D, [2016-10-04T21:09:10.608583 #3017] DEBUG -- : MONGODB | 127.0.0.1:27017 | test.count | STARTED | {\"count\"=>\"people\", \"query\"=>{}}\n",
      "D, [2016-10-04T21:09:10.619122 #3017] DEBUG -- : MONGODB | 127.0.0.1:27017 | test.count | SUCCEEDED | 0.009906328999999998s\n",
      "0\n"
     ]
    }
   ],
   "source": [
    "puts collection.count # counts all documents in collection"
   ]
  },
  {
   "cell_type": "code",
   "execution_count": 32,
   "metadata": {
    "collapsed": false
   },
   "outputs": [
    {
     "name": "stdout",
     "output_type": "stream",
     "text": [
      "D, [2016-10-04T21:10:09.915577 #3017] DEBUG -- : MONGODB | 127.0.0.1:27017 | test.createIndexes | STARTED | {\"createIndexes\"=>\"people\", \"indexes\"=>[{:key=>{:name=>1}, :unique=>true, :name=>\"name_1\"}]}\n",
      "D, [2016-10-04T21:10:09.946592 #3017] DEBUG -- : MONGODB | 127.0.0.1:27017 | test.createIndexes | SUCCEEDED | 0.030475469999999998s\n"
     ]
    },
    {
     "data": {
      "text/plain": [
       "#<Mongo::Operation::Result:27044340 documents=[{\"createdCollectionAutomatically\"=>false, \"numIndexesBefore\"=>1, \"numIndexesAfter\"=>2, \"ok\"=>1.0}]>"
      ]
     },
     "execution_count": 32,
     "metadata": {},
     "output_type": "execute_result"
    }
   ],
   "source": [
    "collection.indexes.create_one({ name: 1 }, unique: true)"
   ]
  },
  {
   "cell_type": "code",
   "execution_count": null,
   "metadata": {
    "collapsed": true
   },
   "outputs": [],
   "source": []
  }
 ],
 "metadata": {
  "kernelspec": {
   "display_name": "Ruby",
   "language": "ruby",
   "name": "iruby"
  },
  "language_info": {
   "file_extension": ".rb",
   "mimetype": "application/x-ruby",
   "name": "ruby",
   "version": "2.3.1"
  }
 },
 "nbformat": 4,
 "nbformat_minor": 1
}
